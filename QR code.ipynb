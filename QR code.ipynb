{
 "cells": [
  {
   "cell_type": "code",
   "execution_count": 8,
   "id": "8dde8c9a",
   "metadata": {},
   "outputs": [],
   "source": [
    "#import pip\n",
    "#pip.main([\"install\",\"qrcode\"])"
   ]
  },
  {
   "cell_type": "code",
   "execution_count": null,
   "id": "e24a0c09",
   "metadata": {},
   "outputs": [],
   "source": []
  },
  {
   "cell_type": "code",
   "execution_count": 9,
   "id": "29500a3d",
   "metadata": {},
   "outputs": [],
   "source": [
    "import qrcode"
   ]
  },
  {
   "cell_type": "code",
   "execution_count": 38,
   "id": "84ddc664",
   "metadata": {},
   "outputs": [],
   "source": [
    "qr=qrcode.QRCode(box_size=2,border=5)"
   ]
  },
  {
   "cell_type": "code",
   "execution_count": 39,
   "id": "7004014b",
   "metadata": {},
   "outputs": [],
   "source": [
    "qr.add_data(\"https://www.google.com/search?gs_ssp=eJzj4tVP1zc0TDYrqigoKbA0YLRSNagwTkw1MrW0MEpKSrM0SrI0tzKoSEo0MTYzMkw2STIyTTIxMPMSS9Er1itOzUvMS6xMzE5VSM7PyUlNTwUAdUUXoA&q=d.s.senanayake+college&oq=d.s&aqs=chrome.2.69i57j46j46i175i199l2j0l3j46i175i199l2.4573j0j15&sourceid=chrome&ie=UTF-8\")"
   ]
  },
  {
   "cell_type": "code",
   "execution_count": 40,
   "id": "10d20dcc",
   "metadata": {},
   "outputs": [],
   "source": [
    "qr.make()"
   ]
  },
  {
   "cell_type": "code",
   "execution_count": 41,
   "id": "ac0e4847",
   "metadata": {},
   "outputs": [],
   "source": [
    "m=qr.make_image(fill_color=\"Black\",back_color=\"White\")"
   ]
  },
  {
   "cell_type": "code",
   "execution_count": 42,
   "id": "094b6c4d",
   "metadata": {},
   "outputs": [
    {
     "data": {
      "image/png": "[encoded data removed]",
      "text/plain": [
       "<qrcode.image.pil.PilImage at 0x1e6e8af4850>"
      ]
     },
     "execution_count": 42,
     "metadata": {},
     "output_type": "execute_result"
    }
   ],
   "source": [
    "m"
   ]
  },
  {
   "cell_type": "code",
   "execution_count": 43,
   "id": "856ab96c",
   "metadata": {},
   "outputs": [],
   "source": [
    "m.save(\"D:\\\\pd.png\")"
   ]
  },
  {
   "cell_type": "code",
   "execution_count": null,
   "id": "3b899efb",
   "metadata": {},
   "outputs": [],
   "source": []
  }
 ],
 "metadata": {
  "kernelspec": {
   "display_name": "Python 3",
   "language": "python",
   "name": "python3"
  },
  "language_info": {
   "codemirror_mode": {
    "name": "ipython",
    "version": 3
   },
   "file_extension": ".py",
   "mimetype": "text/x-python",
   "name": "python",
   "nbconvert_exporter": "python",
   "pygments_lexer": "ipython3",
   "version": "3.8.8"
  }
 },
 "nbformat": 4,
 "nbformat_minor": 5
}
